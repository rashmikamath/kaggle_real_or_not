{
 "cells": [
  {
   "cell_type": "code",
   "execution_count": 1,
   "metadata": {},
   "outputs": [],
   "source": [
    "from glob import glob\n",
    "import pandas as pd\n",
    "from re import sub\n",
    "\n",
    "from sklearn.naive_bayes import MultinomialNB\n",
    "from sklearn.linear_model import LogisticRegression\n",
    "from nltk.corpus import stopwords\n",
    "from nltk.stem import WordNetLemmatizer\n",
    "import matplotlib.pyplot as plt\n",
    "\n",
    "\n",
    "from nltk import word_tokenize, RegexpTokenizer, TweetTokenizer, PorterStemmer\n",
    "\n",
    "from sklearn.ensemble import RandomForestClassifier\n",
    "\n",
    "from sklearn.metrics import classification_report, accuracy_score, f1_score,confusion_matrix\n",
    "from sklearn.model_selection import train_test_split\n",
    "from sklearn.feature_extraction.text import CountVectorizer, TfidfTransformer,TfidfVectorizer\n",
    "from sklearn.pipeline import Pipeline"
   ]
  },
  {
   "cell_type": "code",
   "execution_count": 3,
   "metadata": {},
   "outputs": [],
   "source": [
    "import numpy as np\n",
    "path = \"/home/rkamath/Downloads/nlp/\""
   ]
  },
  {
   "cell_type": "code",
   "execution_count": 4,
   "metadata": {},
   "outputs": [],
   "source": [
    "train_df = pd.read_csv(path+\"train.csv\")\n",
    "train_df = train_df.fillna('None')"
   ]
  },
  {
   "cell_type": "code",
   "execution_count": 5,
   "metadata": {},
   "outputs": [],
   "source": [
    "test_df = pd.read_csv(path+\"test.csv\")\n",
    "test_df = test_df.fillna('None')"
   ]
  },
  {
   "cell_type": "code",
   "execution_count": 6,
   "metadata": {},
   "outputs": [],
   "source": [
    "submission_df = test_df['id']"
   ]
  },
  {
   "cell_type": "code",
   "execution_count": 7,
   "metadata": {},
   "outputs": [],
   "source": [
    "#String HTTP is causing too much noise\n",
    "def repl(text):\n",
    "    return text.replace(\"http\",\"\")"
   ]
  },
  {
   "cell_type": "code",
   "execution_count": 8,
   "metadata": {},
   "outputs": [],
   "source": [
    "train_df['text'] = train_df['text'].apply(lambda x: repl(x))"
   ]
  },
  {
   "cell_type": "code",
   "execution_count": 9,
   "metadata": {},
   "outputs": [],
   "source": [
    "test_df['text'] = test_df['text'].apply(lambda x: repl(x))\n"
   ]
  },
  {
   "cell_type": "code",
   "execution_count": 10,
   "metadata": {
    "scrolled": true
   },
   "outputs": [
    {
     "data": {
      "text/html": [
       "<div>\n",
       "<style scoped>\n",
       "    .dataframe tbody tr th:only-of-type {\n",
       "        vertical-align: middle;\n",
       "    }\n",
       "\n",
       "    .dataframe tbody tr th {\n",
       "        vertical-align: top;\n",
       "    }\n",
       "\n",
       "    .dataframe thead th {\n",
       "        text-align: right;\n",
       "    }\n",
       "</style>\n",
       "<table border=\"1\" class=\"dataframe\">\n",
       "  <thead>\n",
       "    <tr style=\"text-align: right;\">\n",
       "      <th></th>\n",
       "      <th>Count</th>\n",
       "      <th>Disaster Probability</th>\n",
       "    </tr>\n",
       "    <tr>\n",
       "      <th>keyword</th>\n",
       "      <th></th>\n",
       "      <th></th>\n",
       "    </tr>\n",
       "  </thead>\n",
       "  <tbody>\n",
       "    <tr>\n",
       "      <td>wreckage</td>\n",
       "      <td>39</td>\n",
       "      <td>1.000000</td>\n",
       "    </tr>\n",
       "    <tr>\n",
       "      <td>debris</td>\n",
       "      <td>37</td>\n",
       "      <td>1.000000</td>\n",
       "    </tr>\n",
       "    <tr>\n",
       "      <td>derailment</td>\n",
       "      <td>39</td>\n",
       "      <td>1.000000</td>\n",
       "    </tr>\n",
       "    <tr>\n",
       "      <td>outbreak</td>\n",
       "      <td>40</td>\n",
       "      <td>0.975000</td>\n",
       "    </tr>\n",
       "    <tr>\n",
       "      <td>oil%20spill</td>\n",
       "      <td>38</td>\n",
       "      <td>0.973684</td>\n",
       "    </tr>\n",
       "    <tr>\n",
       "      <td>typhoon</td>\n",
       "      <td>38</td>\n",
       "      <td>0.973684</td>\n",
       "    </tr>\n",
       "    <tr>\n",
       "      <td>suicide%20bombing</td>\n",
       "      <td>33</td>\n",
       "      <td>0.969697</td>\n",
       "    </tr>\n",
       "    <tr>\n",
       "      <td>suicide%20bomber</td>\n",
       "      <td>31</td>\n",
       "      <td>0.967742</td>\n",
       "    </tr>\n",
       "    <tr>\n",
       "      <td>bombing</td>\n",
       "      <td>29</td>\n",
       "      <td>0.931034</td>\n",
       "    </tr>\n",
       "    <tr>\n",
       "      <td>suicide%20bomb</td>\n",
       "      <td>35</td>\n",
       "      <td>0.914286</td>\n",
       "    </tr>\n",
       "  </tbody>\n",
       "</table>\n",
       "</div>"
      ],
      "text/plain": [
       "                   Count  Disaster Probability\n",
       "keyword                                       \n",
       "wreckage              39              1.000000\n",
       "debris                37              1.000000\n",
       "derailment            39              1.000000\n",
       "outbreak              40              0.975000\n",
       "oil%20spill           38              0.973684\n",
       "typhoon               38              0.973684\n",
       "suicide%20bombing     33              0.969697\n",
       "suicide%20bomber      31              0.967742\n",
       "bombing               29              0.931034\n",
       "suicide%20bomb        35              0.914286"
      ]
     },
     "execution_count": 10,
     "metadata": {},
     "output_type": "execute_result"
    }
   ],
   "source": [
    "#Calculate the word which has max probabilty for contribution of disaster\n",
    "ag = train_df.groupby('keyword').agg({'text':np.size, 'target':np.mean}).rename(columns={'text':'Count', 'target':'Disaster Probability'})\n",
    "ag.sort_values('Disaster Probability', ascending=False).head(10)"
   ]
  },
  {
   "cell_type": "code",
   "execution_count": 11,
   "metadata": {},
   "outputs": [
    {
     "data": {
      "text/plain": [
       "array([1, 0])"
      ]
     },
     "execution_count": 11,
     "metadata": {},
     "output_type": "execute_result"
    }
   ],
   "source": [
    "train_df.target.unique()"
   ]
  },
  {
   "cell_type": "code",
   "execution_count": 12,
   "metadata": {},
   "outputs": [
    {
     "name": "stdout",
     "output_type": "stream",
     "text": [
      "<class 'pandas.core.frame.DataFrame'>\n",
      "RangeIndex: 7613 entries, 0 to 7612\n",
      "Data columns (total 5 columns):\n",
      "id          7613 non-null int64\n",
      "keyword     7613 non-null object\n",
      "location    7613 non-null object\n",
      "text        7613 non-null object\n",
      "target      7613 non-null int64\n",
      "dtypes: int64(2), object(3)\n",
      "memory usage: 297.5+ KB\n"
     ]
    }
   ],
   "source": [
    "train_df.info()"
   ]
  },
  {
   "cell_type": "code",
   "execution_count": 13,
   "metadata": {},
   "outputs": [
    {
     "data": {
      "text/plain": [
       "<matplotlib.axes._subplots.AxesSubplot at 0x7f7825bb8978>"
      ]
     },
     "execution_count": 13,
     "metadata": {},
     "output_type": "execute_result"
    },
    {
     "data": {
      "image/png": "[encoded data removed]",
      "text/plain": [
       "<Figure size 432x288 with 1 Axes>"
      ]
     },
     "metadata": {
      "needs_background": "light"
     },
     "output_type": "display_data"
    }
   ],
   "source": [
    "train_df['target'].value_counts().plot(kind= \"bar\")"
   ]
  },
  {
   "cell_type": "code",
   "execution_count": 14,
   "metadata": {},
   "outputs": [],
   "source": [
    "def remove_URL(text):\n",
    "    url = RegexpTokenizer(r'https?://\\S+|www\\.\\S+', gaps = True)\n",
    "    return \" \".join(url.tokenize(text))\n",
    "\n",
    "def stopWords(tweet):  \n",
    "    stop_words, toker = stopwords.words('english'), TweetTokenizer()\n",
    "    words_tokens = toker.tokenize(tweet)\n",
    "    return \" \".join([word for word in  words_tokens if not word in stop_words])\n",
    "\n",
    "def remove_pontucations(text):\n",
    "    tokenizer_dots = RegexpTokenizer(r'\\w+')\n",
    "    return \" \".join(tokenizer_dots.tokenize(text))\n",
    "\n",
    "\n",
    "    return tweet\n",
    "\n",
    "def remove_words_min(text):\n",
    "    tmp = text\n",
    "    \n",
    "    for x in tmp.split():\n",
    "        if len(x) < 2:\n",
    "            tmp = tmp.replace(x, '')\n",
    "    return \" \".join(tmp.split())\n"
   ]
  },
  {
   "cell_type": "code",
   "execution_count": 15,
   "metadata": {},
   "outputs": [],
   "source": [
    "train_df.text = train_df.text.apply(lambda x: x.lower()) \n",
    "train_df.text = train_df.text.apply(lambda x: \" \".join(x.split())) \n",
    "train_df.text = train_df.text.apply(lambda x: sub(r'\\d+', '', x)) \n",
    "train_df.text = train_df.text.apply(lambda x: remove_pontucations(x)) \n",
    "train_df.text = train_df.text.apply(lambda x: stopWords(x))\n",
    "train_df.text = train_df.text.apply(lambda x: x.replace('_', ' '))\n",
    "train_df.text = train_df.text.apply(lambda x: remove_words_min(x))"
   ]
  },
  {
   "cell_type": "code",
   "execution_count": 16,
   "metadata": {},
   "outputs": [],
   "source": [
    "train_df.to_csv(\"train.csv\",index=False)"
   ]
  },
  {
   "cell_type": "code",
   "execution_count": 17,
   "metadata": {},
   "outputs": [],
   "source": [
    "test_df.text = test_df.text.apply(lambda x: x.lower()) \n",
    "test_df.text = test_df.text.apply(lambda x: \" \".join(x.split())) \n",
    "test_df.text = test_df.text.apply(lambda x: sub(r'\\d+', '', x)) \n",
    "test_df.text = test_df.text.apply(lambda x: remove_pontucations(x)) \n",
    "test_df.text = test_df.text.apply(lambda x: stopWords(x))\n",
    "test_df.text = test_df.text.apply(lambda x: x.replace('_', ' '))\n",
    "test_df.text = test_df.text.apply(lambda x: remove_words_min(x))"
   ]
  },
  {
   "cell_type": "code",
   "execution_count": 18,
   "metadata": {},
   "outputs": [],
   "source": [
    "test_df.to_csv(\"test.csv\",index=False)"
   ]
  },
  {
   "cell_type": "code",
   "execution_count": 19,
   "metadata": {},
   "outputs": [],
   "source": [
    "y = train_df['target']\n",
    "X = train_df['text']"
   ]
  },
  {
   "cell_type": "code",
   "execution_count": 20,
   "metadata": {},
   "outputs": [],
   "source": [
    "X_disaster = X[y==1]"
   ]
  },
  {
   "cell_type": "code",
   "execution_count": 21,
   "metadata": {
    "scrolled": false
   },
   "outputs": [
    {
     "data": {
      "text/plain": [
       "0         deeds reason earthquake may allah forgive us\n",
       "1                forest fire near la ronge sask canada\n",
       "2    residents asked shelter place notified officer...\n",
       "3    people receive wildfires evacuation orders cal...\n",
       "4    got sent photo ruby alaska smoke wildfires pou...\n",
       "Name: text, dtype: object"
      ]
     },
     "execution_count": 21,
     "metadata": {},
     "output_type": "execute_result"
    }
   ],
   "source": [
    "X_disaster.head()"
   ]
  },
  {
   "cell_type": "code",
   "execution_count": 22,
   "metadata": {},
   "outputs": [
    {
     "name": "stdout",
     "output_type": "stream",
     "text": [
      "CPU times: user 276 ms, sys: 7.73 ms, total: 283 ms\n",
      "Wall time: 283 ms\n"
     ]
    }
   ],
   "source": [
    "%%time\n",
    "corpus_disaster = [word_tokenize(t) for t in X_disaster]"
   ]
  },
  {
   "cell_type": "code",
   "execution_count": 23,
   "metadata": {},
   "outputs": [],
   "source": [
    "lowercase = [[t.lower() for t in doc] for doc in corpus_disaster]\n"
   ]
  },
  {
   "cell_type": "code",
   "execution_count": 24,
   "metadata": {},
   "outputs": [],
   "source": [
    "stop_words = stopwords.words('english')"
   ]
  },
  {
   "cell_type": "code",
   "execution_count": 25,
   "metadata": {},
   "outputs": [],
   "source": [
    "no_stops = [[t for t in doc if t not in stop_words] for doc in lowercase]"
   ]
  },
  {
   "cell_type": "code",
   "execution_count": 26,
   "metadata": {},
   "outputs": [],
   "source": [
    "alphas_disaster= [[token for token in doc if token.isalpha()] for doc in no_stops]\n"
   ]
  },
  {
   "cell_type": "code",
   "execution_count": 27,
   "metadata": {},
   "outputs": [],
   "source": [
    "from nltk.stem import PorterStemmer\n",
    "stemmer = PorterStemmer()\n",
    "stemmed_disaster = [[stemmer.stem(token) for token in doc] for doc in alphas_disaster]"
   ]
  },
  {
   "cell_type": "code",
   "execution_count": 28,
   "metadata": {},
   "outputs": [],
   "source": [
    "nb_words_disaster_nostop = [len(tokens) for tokens in no_stops]"
   ]
  },
  {
   "cell_type": "code",
   "execution_count": 29,
   "metadata": {},
   "outputs": [
    {
     "data": {
      "text/plain": [
       "11.133598287985325"
      ]
     },
     "execution_count": 29,
     "metadata": {},
     "output_type": "execute_result"
    }
   ],
   "source": [
    "avg_nostop = np.mean(nb_words_disaster_nostop)\n",
    "avg_nostop"
   ]
  },
  {
   "cell_type": "code",
   "execution_count": 30,
   "metadata": {},
   "outputs": [
    {
     "data": {
      "text/plain": [
       "11.148272699480282"
      ]
     },
     "execution_count": 30,
     "metadata": {},
     "output_type": "execute_result"
    }
   ],
   "source": [
    "nb_words_disaster_stop = [len(tokens) for tokens in lowercase]\n",
    "avg_stop = np.mean(nb_words_disaster_stop)\n",
    "avg_stop"
   ]
  },
  {
   "cell_type": "code",
   "execution_count": 31,
   "metadata": {},
   "outputs": [
    {
     "data": {
      "text/plain": [
       "11.0"
      ]
     },
     "execution_count": 31,
     "metadata": {},
     "output_type": "execute_result"
    }
   ],
   "source": [
    "np.median(nb_words_disaster_nostop)"
   ]
  },
  {
   "cell_type": "code",
   "execution_count": 32,
   "metadata": {},
   "outputs": [
    {
     "data": {
      "text/plain": [
       "11.0"
      ]
     },
     "execution_count": 32,
     "metadata": {},
     "output_type": "execute_result"
    }
   ],
   "source": [
    "np.median(nb_words_disaster_stop)"
   ]
  },
  {
   "cell_type": "code",
   "execution_count": 33,
   "metadata": {},
   "outputs": [],
   "source": [
    "nb_words_disaster_stop = pd.Series(nb_words_disaster_stop)\n",
    "nb_words_disaster_nostop = pd.Series(nb_words_disaster_nostop)"
   ]
  },
  {
   "cell_type": "code",
   "execution_count": 34,
   "metadata": {},
   "outputs": [],
   "source": [
    "df_disaster =  pd.DataFrame(X_disaster)"
   ]
  },
  {
   "cell_type": "code",
   "execution_count": 35,
   "metadata": {},
   "outputs": [
    {
     "name": "stdout",
     "output_type": "stream",
     "text": [
      "<class 'pandas.core.frame.DataFrame'>\n",
      "Int64Index: 3271 entries, 0 to 7612\n",
      "Data columns (total 1 columns):\n",
      "text    3271 non-null object\n",
      "dtypes: object(1)\n",
      "memory usage: 51.1+ KB\n"
     ]
    }
   ],
   "source": [
    "df_disaster.info()"
   ]
  },
  {
   "cell_type": "code",
   "execution_count": 36,
   "metadata": {},
   "outputs": [
    {
     "data": {
      "text/html": [
       "<div>\n",
       "<style scoped>\n",
       "    .dataframe tbody tr th:only-of-type {\n",
       "        vertical-align: middle;\n",
       "    }\n",
       "\n",
       "    .dataframe tbody tr th {\n",
       "        vertical-align: top;\n",
       "    }\n",
       "\n",
       "    .dataframe thead th {\n",
       "        text-align: right;\n",
       "    }\n",
       "</style>\n",
       "<table border=\"1\" class=\"dataframe\">\n",
       "  <thead>\n",
       "    <tr style=\"text-align: right;\">\n",
       "      <th></th>\n",
       "      <th>text</th>\n",
       "      <th>nb_words_no_stop</th>\n",
       "      <th>nb_words_stop</th>\n",
       "    </tr>\n",
       "    <tr>\n",
       "      <th>index</th>\n",
       "      <th></th>\n",
       "      <th></th>\n",
       "      <th></th>\n",
       "    </tr>\n",
       "  </thead>\n",
       "  <tbody>\n",
       "    <tr>\n",
       "      <td>0</td>\n",
       "      <td>deeds reason earthquake may allah forgive us</td>\n",
       "      <td>7</td>\n",
       "      <td>7</td>\n",
       "    </tr>\n",
       "    <tr>\n",
       "      <td>1</td>\n",
       "      <td>forest fire near la ronge sask canada</td>\n",
       "      <td>7</td>\n",
       "      <td>7</td>\n",
       "    </tr>\n",
       "    <tr>\n",
       "      <td>2</td>\n",
       "      <td>residents asked shelter place notified officer...</td>\n",
       "      <td>11</td>\n",
       "      <td>11</td>\n",
       "    </tr>\n",
       "    <tr>\n",
       "      <td>3</td>\n",
       "      <td>people receive wildfires evacuation orders cal...</td>\n",
       "      <td>6</td>\n",
       "      <td>6</td>\n",
       "    </tr>\n",
       "    <tr>\n",
       "      <td>4</td>\n",
       "      <td>got sent photo ruby alaska smoke wildfires pou...</td>\n",
       "      <td>9</td>\n",
       "      <td>9</td>\n",
       "    </tr>\n",
       "  </tbody>\n",
       "</table>\n",
       "</div>"
      ],
      "text/plain": [
       "                                                    text  nb_words_no_stop  \\\n",
       "index                                                                        \n",
       "0           deeds reason earthquake may allah forgive us                 7   \n",
       "1                  forest fire near la ronge sask canada                 7   \n",
       "2      residents asked shelter place notified officer...                11   \n",
       "3      people receive wildfires evacuation orders cal...                 6   \n",
       "4      got sent photo ruby alaska smoke wildfires pou...                 9   \n",
       "\n",
       "       nb_words_stop  \n",
       "index                 \n",
       "0                  7  \n",
       "1                  7  \n",
       "2                 11  \n",
       "3                  6  \n",
       "4                  9  "
      ]
     },
     "execution_count": 36,
     "metadata": {},
     "output_type": "execute_result"
    }
   ],
   "source": [
    "df_disaster = pd.concat([X_disaster.reset_index(), nb_words_disaster_nostop, nb_words_disaster_stop], axis=1).set_index('index').rename(columns={\n",
    "    0: \"nb_words_no_stop\", 1: 'nb_words_stop'\n",
    "})\n",
    "df_disaster.head()"
   ]
  },
  {
   "cell_type": "code",
   "execution_count": 37,
   "metadata": {},
   "outputs": [
    {
     "data": {
      "image/png": "[encoded data removed]",
      "text/plain": [
       "<Figure size 432x288 with 1 Axes>"
      ]
     },
     "metadata": {
      "needs_background": "light"
     },
     "output_type": "display_data"
    }
   ],
   "source": [
    "import seaborn as sns\n",
    "sns.distplot(np.log1p(nb_words_disaster_nostop), kde=False, label=\"No stop\")\n",
    "sns.distplot(np.log1p(nb_words_disaster_stop), kde=False, label=\"Stop\")\n",
    "plt.legend();"
   ]
  },
  {
   "cell_type": "code",
   "execution_count": 38,
   "metadata": {},
   "outputs": [
    {
     "data": {
      "image/png": "[encoded data removed]",
      "text/plain": [
       "<Figure size 432x288 with 1 Axes>"
      ]
     },
     "metadata": {
      "needs_background": "light"
     },
     "output_type": "display_data"
    }
   ],
   "source": [
    "sns.distplot(nb_words_disaster_stop, hist=False, color='red', label='Stop')\n",
    "sns.distplot(nb_words_disaster_nostop, hist=False, color='blue', label='No stop')\n",
    "plt.legend();\n"
   ]
  },
  {
   "cell_type": "code",
   "execution_count": 39,
   "metadata": {},
   "outputs": [
    {
     "data": {
      "text/plain": [
       "[('co', 2509),\n",
       " ('fire', 180),\n",
       " ('news', 144),\n",
       " ('amp', 135),\n",
       " ('via', 120),\n",
       " ('disaster', 118),\n",
       " ('california', 115),\n",
       " ('suicide', 112),\n",
       " ('people', 104),\n",
       " ('police', 104)]"
      ]
     },
     "execution_count": 39,
     "metadata": {},
     "output_type": "execute_result"
    }
   ],
   "source": [
    "from collections import defaultdict\n",
    "\n",
    "counter = defaultdict(int)\n",
    "for doc in alphas_disaster:\n",
    "    for token in doc:\n",
    "        counter[token] += 1\n",
    "\n",
    "from collections import Counter\n",
    "\n",
    "c = Counter(counter)\n",
    "\n",
    "c.most_common(10)"
   ]
  },
  {
   "cell_type": "code",
   "execution_count": 40,
   "metadata": {},
   "outputs": [],
   "source": [
    "X_nondisaster = X[y == 0]\n"
   ]
  },
  {
   "cell_type": "code",
   "execution_count": 41,
   "metadata": {},
   "outputs": [],
   "source": [
    "corpus_nondisaster = [word_tokenize(t) for t in X_nondisaster]\n",
    "lowercase_nondisaster = [[t.lower() for t in doc] for doc in corpus_nondisaster]\n",
    "no_stop_nondisaster = [[t for t in doc if t not in stop_words] for doc in lowercase_nondisaster]\n",
    "alphas_nondisaster = [[token for token in doc if token.isalpha()] for doc in no_stop_nondisaster]\n",
    "nb_words_nondisaster_nostop = [len(t) for t in no_stop_nondisaster]"
   ]
  },
  {
   "cell_type": "code",
   "execution_count": 42,
   "metadata": {},
   "outputs": [
    {
     "data": {
      "text/plain": [
       "9.71579917088899"
      ]
     },
     "execution_count": 42,
     "metadata": {},
     "output_type": "execute_result"
    }
   ],
   "source": [
    "avg_words_nondisaster_nostop = np.mean(nb_words_nondisaster_nostop)\n",
    "avg_words_nondisaster_nostop"
   ]
  },
  {
   "cell_type": "code",
   "execution_count": 43,
   "metadata": {},
   "outputs": [
    {
     "data": {
      "text/plain": [
       "9.727775218793182"
      ]
     },
     "execution_count": 43,
     "metadata": {},
     "output_type": "execute_result"
    }
   ],
   "source": [
    "nb_words_nondisaster_stop = [len(t) for t in lowercase_nondisaster]\n",
    "avg_words_nondisaster = np.mean(nb_words_nondisaster_stop)\n",
    "avg_words_nondisaster"
   ]
  },
  {
   "cell_type": "code",
   "execution_count": 44,
   "metadata": {},
   "outputs": [
    {
     "data": {
      "text/plain": [
       "10.0"
      ]
     },
     "execution_count": 44,
     "metadata": {},
     "output_type": "execute_result"
    }
   ],
   "source": [
    "np.median(nb_words_nondisaster_nostop)\n"
   ]
  },
  {
   "cell_type": "code",
   "execution_count": 45,
   "metadata": {},
   "outputs": [
    {
     "data": {
      "text/plain": [
       "10.0"
      ]
     },
     "execution_count": 45,
     "metadata": {},
     "output_type": "execute_result"
    }
   ],
   "source": [
    "np.median(nb_words_nondisaster_stop)"
   ]
  },
  {
   "cell_type": "code",
   "execution_count": 46,
   "metadata": {},
   "outputs": [],
   "source": [
    "df_nondisaster =  pd.DataFrame(X_nondisaster)"
   ]
  },
  {
   "cell_type": "code",
   "execution_count": 47,
   "metadata": {
    "scrolled": true
   },
   "outputs": [
    {
     "name": "stdout",
     "output_type": "stream",
     "text": [
      "<class 'pandas.core.frame.DataFrame'>\n",
      "Int64Index: 4342 entries, 15 to 7593\n",
      "Data columns (total 1 columns):\n",
      "text    4342 non-null object\n",
      "dtypes: object(1)\n",
      "memory usage: 67.8+ KB\n"
     ]
    }
   ],
   "source": [
    "df_nondisaster.info()"
   ]
  },
  {
   "cell_type": "code",
   "execution_count": 48,
   "metadata": {},
   "outputs": [],
   "source": [
    "nb_words_nondisaster_stop = pd.Series(nb_words_nondisaster_stop)\n",
    "nb_words_nondisaster_nostop = pd.Series(nb_words_nondisaster_nostop)"
   ]
  },
  {
   "cell_type": "code",
   "execution_count": 49,
   "metadata": {},
   "outputs": [
    {
     "data": {
      "text/html": [
       "<div>\n",
       "<style scoped>\n",
       "    .dataframe tbody tr th:only-of-type {\n",
       "        vertical-align: middle;\n",
       "    }\n",
       "\n",
       "    .dataframe tbody tr th {\n",
       "        vertical-align: top;\n",
       "    }\n",
       "\n",
       "    .dataframe thead th {\n",
       "        text-align: right;\n",
       "    }\n",
       "</style>\n",
       "<table border=\"1\" class=\"dataframe\">\n",
       "  <thead>\n",
       "    <tr style=\"text-align: right;\">\n",
       "      <th></th>\n",
       "      <th>text</th>\n",
       "      <th>nb_words_no_stop</th>\n",
       "      <th>nb_words_stop</th>\n",
       "    </tr>\n",
       "    <tr>\n",
       "      <th>index</th>\n",
       "      <th></th>\n",
       "      <th></th>\n",
       "      <th></th>\n",
       "    </tr>\n",
       "  </thead>\n",
       "  <tbody>\n",
       "    <tr>\n",
       "      <td>15</td>\n",
       "      <td>man</td>\n",
       "      <td>1</td>\n",
       "      <td>1</td>\n",
       "    </tr>\n",
       "    <tr>\n",
       "      <td>16</td>\n",
       "      <td>love fruits</td>\n",
       "      <td>2</td>\n",
       "      <td>2</td>\n",
       "    </tr>\n",
       "    <tr>\n",
       "      <td>17</td>\n",
       "      <td>summer lovely</td>\n",
       "      <td>2</td>\n",
       "      <td>2</td>\n",
       "    </tr>\n",
       "    <tr>\n",
       "      <td>18</td>\n",
       "      <td>car fast</td>\n",
       "      <td>2</td>\n",
       "      <td>2</td>\n",
       "    </tr>\n",
       "    <tr>\n",
       "      <td>19</td>\n",
       "      <td>goooooooaaaaaal</td>\n",
       "      <td>1</td>\n",
       "      <td>1</td>\n",
       "    </tr>\n",
       "  </tbody>\n",
       "</table>\n",
       "</div>"
      ],
      "text/plain": [
       "                  text  nb_words_no_stop  nb_words_stop\n",
       "index                                                  \n",
       "15                 man                 1              1\n",
       "16         love fruits                 2              2\n",
       "17       summer lovely                 2              2\n",
       "18            car fast                 2              2\n",
       "19     goooooooaaaaaal                 1              1"
      ]
     },
     "execution_count": 49,
     "metadata": {},
     "output_type": "execute_result"
    }
   ],
   "source": [
    "df_nondisaster = pd.concat([X_nondisaster.reset_index(), nb_words_nondisaster_nostop, nb_words_nondisaster_stop], axis=1).set_index('index').rename(columns={\n",
    "    0: \"nb_words_no_stop\", 1: 'nb_words_stop'\n",
    "})\n",
    "df_nondisaster.head()"
   ]
  },
  {
   "cell_type": "code",
   "execution_count": 50,
   "metadata": {},
   "outputs": [
    {
     "data": {
      "text/plain": [
       "[('co', 4710),\n",
       " ('like', 345),\n",
       " ('amp', 343),\n",
       " ('fire', 249),\n",
       " ('get', 229),\n",
       " ('new', 224),\n",
       " ('via', 219),\n",
       " ('news', 201),\n",
       " ('people', 199),\n",
       " ('one', 197)]"
      ]
     },
     "execution_count": 50,
     "metadata": {},
     "output_type": "execute_result"
    }
   ],
   "source": [
    "from collections import defaultdict\n",
    "\n",
    "counter_nondisaster = defaultdict(int)\n",
    "for doc in alphas_nondisaster:\n",
    "    for token in doc:\n",
    "        counter[token] += 1\n",
    "\n",
    "from collections import Counter\n",
    "\n",
    "c_nondisaster = Counter(counter)\n",
    "\n",
    "c_nondisaster.most_common(10)"
   ]
  },
  {
   "cell_type": "code",
   "execution_count": 51,
   "metadata": {},
   "outputs": [],
   "source": [
    "from gensim import corpora\n",
    "dictionary = corpora.Dictionary(alphas_disaster)"
   ]
  },
  {
   "cell_type": "code",
   "execution_count": 52,
   "metadata": {},
   "outputs": [],
   "source": [
    "corpus_1 = [dictionary.doc2bow(t) for t in alphas_disaster]"
   ]
  },
  {
   "cell_type": "code",
   "execution_count": 53,
   "metadata": {},
   "outputs": [],
   "source": [
    "from gensim.models.ldamodel import LdaModel"
   ]
  },
  {
   "cell_type": "code",
   "execution_count": 54,
   "metadata": {},
   "outputs": [
    {
     "name": "stdout",
     "output_type": "stream",
     "text": [
      "CPU times: user 1.61 s, sys: 19.1 ms, total: 1.63 s\n",
      "Wall time: 1.63 s\n"
     ]
    }
   ],
   "source": [
    "%%time\n",
    "lda_model = LdaModel(\n",
    "    corpus=corpus_1, id2word=dictionary, num_topics=4, random_state=42)"
   ]
  },
  {
   "cell_type": "code",
   "execution_count": 55,
   "metadata": {},
   "outputs": [
    {
     "name": "stdout",
     "output_type": "stream",
     "text": [
      "[(0,\n",
      "  '0.058*\"co\" + 0.009*\"suicide\" + 0.008*\"disaster\" + 0.006*\"mh\" + '\n",
      "  '0.006*\"killed\" + 0.006*\"typhoon\" + 0.005*\"bombing\" + 0.005*\"obama\" + '\n",
      "  '0.005*\"saudi\" + 0.005*\"police\"'),\n",
      " (1,\n",
      "  '0.058*\"co\" + 0.007*\"old\" + 0.006*\"suicide\" + 0.005*\"pkk\" + 0.004*\"via\" + '\n",
      "  '0.004*\"refugees\" + 0.004*\"released\" + 0.004*\"yr\" + 0.004*\"bomber\" + '\n",
      "  '0.004*\"turkey\"'),\n",
      " (2,\n",
      "  '0.039*\"co\" + 0.007*\"oil\" + 0.007*\"news\" + 0.005*\"get\" + 0.005*\"california\" '\n",
      "  '+ 0.004*\"nuclear\" + 0.004*\"bigger\" + 0.003*\"spill\" + 0.003*\"weapons\" + '\n",
      "  '0.003*\"police\"'),\n",
      " (3,\n",
      "  '0.062*\"co\" + 0.008*\"families\" + 0.008*\"legionnaires\" + 0.006*\"pm\" + '\n",
      "  '0.006*\"wreckage\" + 0.004*\"amp\" + 0.004*\"severe\" + 0.004*\"storm\" + '\n",
      "  '0.004*\"affected\" + 0.004*\"airport\"')]\n"
     ]
    }
   ],
   "source": [
    "from pprint import pprint\n",
    "pprint(lda_model.print_topics())"
   ]
  },
  {
   "cell_type": "code",
   "execution_count": 56,
   "metadata": {},
   "outputs": [
    {
     "name": "stdout",
     "output_type": "stream",
     "text": [
      "CPU times: user 691 ms, sys: 6.37 ms, total: 697 ms\n",
      "Wall time: 695 ms\n"
     ]
    }
   ],
   "source": [
    "%%time\n",
    "lda_model_1 = LdaModel(\n",
    "    corpus=corpus_1, id2word=dictionary, num_topics=4, random_state=42, iterations=10)"
   ]
  },
  {
   "cell_type": "code",
   "execution_count": 57,
   "metadata": {},
   "outputs": [
    {
     "name": "stdout",
     "output_type": "stream",
     "text": [
      "[(0,\n",
      "  '0.056*\"co\" + 0.007*\"disaster\" + 0.007*\"suicide\" + 0.006*\"killed\" + '\n",
      "  '0.005*\"mh\" + 0.005*\"typhoon\" + 0.005*\"police\" + 0.005*\"obama\" + '\n",
      "  '0.004*\"confirmed\" + 0.004*\"migrants\"'),\n",
      " (1,\n",
      "  '0.060*\"co\" + 0.007*\"suicide\" + 0.007*\"old\" + 0.005*\"families\" + '\n",
      "  '0.004*\"fatal\" + 0.004*\"bomb\" + 0.004*\"pkk\" + 0.004*\"via\" + 0.004*\"bomber\" + '\n",
      "  '0.004*\"yr\"'),\n",
      " (2,\n",
      "  '0.039*\"co\" + 0.008*\"news\" + 0.006*\"oil\" + 0.005*\"california\" + 0.004*\"mass\" '\n",
      "  '+ 0.003*\"bigger\" + 0.003*\"northern\" + 0.003*\"spill\" + 0.003*\"police\" + '\n",
      "  '0.003*\"wildfire\"'),\n",
      " (3,\n",
      "  '0.064*\"co\" + 0.006*\"pm\" + 0.004*\"storm\" + 0.004*\"legionnaires\" + '\n",
      "  '0.004*\"amp\" + 0.004*\"airport\" + 0.004*\"wreckage\" + 0.004*\"watch\" + '\n",
      "  '0.004*\"families\" + 0.003*\"hiroshima\"')]\n"
     ]
    }
   ],
   "source": [
    "from pprint import pprint\n",
    "pprint(lda_model_1.print_topics())"
   ]
  },
  {
   "cell_type": "code",
   "execution_count": 58,
   "metadata": {},
   "outputs": [],
   "source": [
    "import pyLDAvis.gensim"
   ]
  },
  {
   "cell_type": "code",
   "execution_count": 59,
   "metadata": {},
   "outputs": [
    {
     "name": "stderr",
     "output_type": "stream",
     "text": [
      "/home/rkamath/anaconda3/envs/fastai/lib/python3.6/site-packages/pyLDAvis/_prepare.py:257: FutureWarning: Sorting because non-concatenation axis is not aligned. A future version\n",
      "of pandas will change to not sort by default.\n",
      "\n",
      "To accept the future behavior, pass 'sort=False'.\n",
      "\n",
      "To retain the current behavior and silence the warning, pass 'sort=True'.\n",
      "\n",
      "  return pd.concat([default_term_info] + list(topic_dfs))\n"
     ]
    },
    {
     "data": {
      "text/plain": [
       "PreparedData(topic_coordinates=              x         y  topics  cluster       Freq\n",
       "topic                                                \n",
       "0      0.129724 -0.015964       1        1  28.333817\n",
       "3     -0.044564  0.034780       2        1  27.788570\n",
       "1     -0.057155 -0.106139       3        1  23.487291\n",
       "2     -0.028005  0.087323       4        1  20.390316, topic_info=     Category        Freq          Term       Total  loglift  logprob\n",
       "3729  Default   87.000000  legionnaires   87.000000  30.0000  30.0000\n",
       "5245  Default   56.000000           oil   56.000000  29.0000  29.0000\n",
       "1465  Default   66.000000           old   66.000000  28.0000  28.0000\n",
       "961   Default  154.000000       suicide  154.000000  27.0000  27.0000\n",
       "1762  Default  111.000000      families  111.000000  26.0000  26.0000\n",
       "...       ...         ...           ...         ...      ...      ...\n",
       "1319   Topic4   19.095488         video   75.219627   0.2192  -5.9631\n",
       "8      Topic4   19.635296          fire   88.348297   0.0862  -5.9353\n",
       "1467   Topic4   19.021494      wildfire   82.142914   0.1272  -5.9670\n",
       "828    Topic4   17.704931      northern   67.898506   0.2459  -6.0388\n",
       "386    Topic4   17.760443           via   82.386276   0.0557  -6.0356\n",
       "\n",
       "[272 rows x 6 columns], token_table=      Topic      Freq         Term\n",
       "term                              \n",
       "107       4  0.956466          aba\n",
       "4028      3  0.890742  abbswinston\n",
       "1420      1  0.330140          abc\n",
       "1420      4  0.660280          abc\n",
       "2925      3  0.846179      actions\n",
       "...     ...       ...          ...\n",
       "1767      1  0.022981           yr\n",
       "1767      2  0.160864           yr\n",
       "1767      3  0.804320           yr\n",
       "4032      3  0.845723      zionist\n",
       "5181      2  0.959123         zone\n",
       "\n",
       "[494 rows x 3 columns], R=30, lambda_step=0.01, plot_opts={'xlab': 'PC1', 'ylab': 'PC2'}, topic_order=[1, 4, 2, 3])"
      ]
     },
     "execution_count": 59,
     "metadata": {},
     "output_type": "execute_result"
    }
   ],
   "source": [
    "pyLDAvis.gensim.prepare(lda_model, corpus_1, dictionary)"
   ]
  },
  {
   "cell_type": "code",
   "execution_count": 60,
   "metadata": {},
   "outputs": [],
   "source": [
    "weight_topic = lda_model_1.top_topics(corpus=corpus_1, dictionary=dictionary, topn=30)"
   ]
  },
  {
   "cell_type": "code",
   "execution_count": 61,
   "metadata": {},
   "outputs": [
    {
     "data": {
      "text/plain": [
       "[([(0.064012125, 'co'),\n",
       "   (0.005733884, 'pm'),\n",
       "   (0.004070529, 'storm'),\n",
       "   (0.0040326025, 'legionnaires'),\n",
       "   (0.0039979415, 'amp'),\n",
       "   (0.0038104337, 'airport'),\n",
       "   (0.0036124478, 'wreckage'),\n",
       "   (0.0035808987, 'watch'),\n",
       "   (0.003539196, 'families'),\n",
       "   (0.003418009, 'hiroshima'),\n",
       "   (0.0034039372, 'severe'),\n",
       "   (0.00303929, 'get'),\n",
       "   (0.0028597675, 'war'),\n",
       "   (0.0028282867, 'fires'),\n",
       "   (0.002643844, 'warning'),\n",
       "   (0.0025912363, 'disaster'),\n",
       "   (0.002576541, 'swallowed'),\n",
       "   (0.0025649653, 'people'),\n",
       "   (0.0025446925, 'thunderstorm'),\n",
       "   (0.0025307874, 'sandstorm'),\n",
       "   (0.002503125, 'affected'),\n",
       "   (0.002462419, 'minute'),\n",
       "   (0.0022575844, 'us'),\n",
       "   (0.0022457943, 'like'),\n",
       "   (0.0021957455, 'fire'),\n",
       "   (0.0021765165, 'news'),\n",
       "   (0.0021325739, 'nuclear'),\n",
       "   (0.002125056, 'violent'),\n",
       "   (0.0021176932, 'police'),\n",
       "   (0.0020475246, 'massacre')],\n",
       "  -15.241530320805616),\n",
       " ([(0.03921163, 'co'),\n",
       "   (0.0075217835, 'news'),\n",
       "   (0.0064786584, 'oil'),\n",
       "   (0.0053662485, 'california'),\n",
       "   (0.00411788, 'mass'),\n",
       "   (0.0033144343, 'bigger'),\n",
       "   (0.0031574713, 'northern'),\n",
       "   (0.0031106798, 'spill'),\n",
       "   (0.0030321435, 'police'),\n",
       "   (0.0028067615, 'wildfire'),\n",
       "   (0.0028000397, 'abc'),\n",
       "   (0.0027090034, 'nuclear'),\n",
       "   (0.0026859022, 'homes'),\n",
       "   (0.0026191706, 'legionnaires'),\n",
       "   (0.0026049672, 'tornado'),\n",
       "   (0.0025619995, 'may'),\n",
       "   (0.002549365, 'home'),\n",
       "   (0.002488333, 'murder'),\n",
       "   (0.0024738507, 'amp'),\n",
       "   (0.0024495812, 'costlier'),\n",
       "   (0.0024495812, 'refugio'),\n",
       "   (0.0024090558, 'video'),\n",
       "   (0.0023876939, 'fire'),\n",
       "   (0.002308788, 'fires'),\n",
       "   (0.002278618, 'projected'),\n",
       "   (0.0022066701, 'thunderstorm'),\n",
       "   (0.0021737516, 'storm'),\n",
       "   (0.0021534646, 'time'),\n",
       "   (0.0021423097, 'emergency'),\n",
       "   (0.002127086, 'razed')],\n",
       "  -15.461109240709188),\n",
       " ([(0.056405094, 'co'),\n",
       "   (0.0074309246, 'disaster'),\n",
       "   (0.0070579844, 'suicide'),\n",
       "   (0.0057193693, 'killed'),\n",
       "   (0.0054729637, 'mh'),\n",
       "   (0.005277542, 'typhoon'),\n",
       "   (0.004980624, 'police'),\n",
       "   (0.004662298, 'obama'),\n",
       "   (0.0044473247, 'confirmed'),\n",
       "   (0.0044116904, 'migrants'),\n",
       "   (0.004184813, 'malaysia'),\n",
       "   (0.0040231617, 'saudi'),\n",
       "   (0.0039152266, 'bombing'),\n",
       "   (0.003764656, 'wounded'),\n",
       "   (0.0037388545, 'people'),\n",
       "   (0.0036810222, 'investigators'),\n",
       "   (0.003651341, 'mosque'),\n",
       "   (0.0035513886, 'rescuers'),\n",
       "   (0.0032298188, 'video'),\n",
       "   (0.0031733355, 'bomber'),\n",
       "   (0.0030975884, 'hundreds'),\n",
       "   (0.003073034, 'fire'),\n",
       "   (0.0030459268, 'nuclear'),\n",
       "   (0.0029339038, 'attack'),\n",
       "   (0.0029291515, 'amp'),\n",
       "   (0.0028283228, 'northern'),\n",
       "   (0.0027850696, 'spill'),\n",
       "   (0.0027695263, 'suspect'),\n",
       "   (0.0027467695, 'dead'),\n",
       "   (0.0027098279, 'searching')],\n",
       "  -15.585909412163355),\n",
       " ([(0.059962265, 'co'),\n",
       "   (0.006957163, 'suicide'),\n",
       "   (0.0065508946, 'old'),\n",
       "   (0.005412023, 'families'),\n",
       "   (0.0044807727, 'fatal'),\n",
       "   (0.0040744203, 'bomb'),\n",
       "   (0.0040174047, 'pkk'),\n",
       "   (0.004002616, 'via'),\n",
       "   (0.0039251335, 'bomber'),\n",
       "   (0.0036331136, 'yr'),\n",
       "   (0.0035371762, 'year'),\n",
       "   (0.0034838584, 'detonated'),\n",
       "   (0.0033145135, 'bestnaijamade'),\n",
       "   (0.0030499746, 'army'),\n",
       "   (0.00297186, 'released'),\n",
       "   (0.0029240095, 'turkey'),\n",
       "   (0.0029096776, 'car'),\n",
       "   (0.0026174276, 'crash'),\n",
       "   (0.00255402, 'california'),\n",
       "   (0.002540551, 'wildfire'),\n",
       "   (0.0025373069, 'storm'),\n",
       "   (0.0024979955, 'terrorist'),\n",
       "   (0.0024554052, 'outbreak'),\n",
       "   (0.0024431858, 'live'),\n",
       "   (0.002441161, 'pic'),\n",
       "   (0.0024246403, 'mp'),\n",
       "   (0.002404772, 'refugees'),\n",
       "   (0.0023637922, 'legionnaires'),\n",
       "   (0.0023010606, 'train'),\n",
       "   (0.0022818267, 'tragedy')],\n",
       "  -15.95657910643356)]"
      ]
     },
     "execution_count": 61,
     "metadata": {},
     "output_type": "execute_result"
    }
   ],
   "source": [
    "weight_topic"
   ]
  },
  {
   "cell_type": "code",
   "execution_count": 62,
   "metadata": {},
   "outputs": [],
   "source": [
    "fire,news,amp,bomber = weight_topic"
   ]
  },
  {
   "cell_type": "code",
   "execution_count": 63,
   "metadata": {},
   "outputs": [
    {
     "data": {
      "text/plain": [
       "['co',\n",
       " 'pm',\n",
       " 'storm',\n",
       " 'legionnaires',\n",
       " 'amp',\n",
       " 'airport',\n",
       " 'wreckage',\n",
       " 'watch',\n",
       " 'families',\n",
       " 'hiroshima',\n",
       " 'severe',\n",
       " 'get',\n",
       " 'war',\n",
       " 'fires',\n",
       " 'warning',\n",
       " 'disaster',\n",
       " 'swallowed',\n",
       " 'people',\n",
       " 'thunderstorm',\n",
       " 'sandstorm',\n",
       " 'affected',\n",
       " 'minute',\n",
       " 'us',\n",
       " 'like',\n",
       " 'fire',\n",
       " 'news',\n",
       " 'nuclear',\n",
       " 'violent',\n",
       " 'police',\n",
       " 'massacre']"
      ]
     },
     "execution_count": 63,
     "metadata": {},
     "output_type": "execute_result"
    }
   ],
   "source": [
    "fire = fire[0]\n",
    "fire = [tup[1] for tup in fire]\n",
    "fire\n"
   ]
  },
  {
   "cell_type": "code",
   "execution_count": 64,
   "metadata": {},
   "outputs": [
    {
     "data": {
      "text/plain": [
       "['co',\n",
       " 'news',\n",
       " 'oil',\n",
       " 'california',\n",
       " 'mass',\n",
       " 'bigger',\n",
       " 'northern',\n",
       " 'spill',\n",
       " 'police',\n",
       " 'wildfire',\n",
       " 'abc',\n",
       " 'nuclear',\n",
       " 'homes',\n",
       " 'legionnaires',\n",
       " 'tornado',\n",
       " 'may',\n",
       " 'home',\n",
       " 'murder',\n",
       " 'amp',\n",
       " 'costlier',\n",
       " 'refugio',\n",
       " 'video',\n",
       " 'fire',\n",
       " 'fires',\n",
       " 'projected',\n",
       " 'thunderstorm',\n",
       " 'storm',\n",
       " 'time',\n",
       " 'emergency',\n",
       " 'razed']"
      ]
     },
     "execution_count": 64,
     "metadata": {},
     "output_type": "execute_result"
    }
   ],
   "source": [
    "news = news[0]\n",
    "news = [tup[1] for tup in news]\n",
    "news"
   ]
  },
  {
   "cell_type": "code",
   "execution_count": 65,
   "metadata": {},
   "outputs": [
    {
     "data": {
      "text/plain": [
       "['co',\n",
       " 'disaster',\n",
       " 'suicide',\n",
       " 'killed',\n",
       " 'mh',\n",
       " 'typhoon',\n",
       " 'police',\n",
       " 'obama',\n",
       " 'confirmed',\n",
       " 'migrants',\n",
       " 'malaysia',\n",
       " 'saudi',\n",
       " 'bombing',\n",
       " 'wounded',\n",
       " 'people',\n",
       " 'investigators',\n",
       " 'mosque',\n",
       " 'rescuers',\n",
       " 'video',\n",
       " 'bomber',\n",
       " 'hundreds',\n",
       " 'fire',\n",
       " 'nuclear',\n",
       " 'attack',\n",
       " 'amp',\n",
       " 'northern',\n",
       " 'spill',\n",
       " 'suspect',\n",
       " 'dead',\n",
       " 'searching']"
      ]
     },
     "execution_count": 65,
     "metadata": {},
     "output_type": "execute_result"
    }
   ],
   "source": [
    "amp = amp[0]\n",
    "amp = [tup[1] for tup in amp]\n",
    "amp"
   ]
  },
  {
   "cell_type": "code",
   "execution_count": 66,
   "metadata": {},
   "outputs": [
    {
     "data": {
      "text/plain": [
       "['co',\n",
       " 'suicide',\n",
       " 'old',\n",
       " 'families',\n",
       " 'fatal',\n",
       " 'bomb',\n",
       " 'pkk',\n",
       " 'via',\n",
       " 'bomber',\n",
       " 'yr',\n",
       " 'year',\n",
       " 'detonated',\n",
       " 'bestnaijamade',\n",
       " 'army',\n",
       " 'released',\n",
       " 'turkey',\n",
       " 'car',\n",
       " 'crash',\n",
       " 'california',\n",
       " 'wildfire',\n",
       " 'storm',\n",
       " 'terrorist',\n",
       " 'outbreak',\n",
       " 'live',\n",
       " 'pic',\n",
       " 'mp',\n",
       " 'refugees',\n",
       " 'legionnaires',\n",
       " 'train',\n",
       " 'tragedy']"
      ]
     },
     "execution_count": 66,
     "metadata": {},
     "output_type": "execute_result"
    }
   ],
   "source": [
    "bomber = bomber[0]\n",
    "bomber = [tup[1] for tup in bomber]\n",
    "bomber"
   ]
  },
  {
   "cell_type": "code",
   "execution_count": 69,
   "metadata": {},
   "outputs": [],
   "source": [
    "from sklearn.model_selection import train_test_split"
   ]
  },
  {
   "cell_type": "code",
   "execution_count": 70,
   "metadata": {},
   "outputs": [],
   "source": [
    "X_train, X_test, y_train, y_test = train_test_split(X, y, test_size=0.2, random_state=42, stratify=y)\n"
   ]
  },
  {
   "cell_type": "code",
   "execution_count": 71,
   "metadata": {},
   "outputs": [
    {
     "data": {
      "text/plain": [
       "((6090,), (1523,), (6090,), (1523,))"
      ]
     },
     "execution_count": 71,
     "metadata": {},
     "output_type": "execute_result"
    }
   ],
   "source": [
    "X_train.shape, X_test.shape, y_train.shape, y_test.shape"
   ]
  },
  {
   "cell_type": "code",
   "execution_count": 72,
   "metadata": {},
   "outputs": [],
   "source": [
    "tvec = TfidfVectorizer(stop_words='english')"
   ]
  },
  {
   "cell_type": "code",
   "execution_count": 73,
   "metadata": {},
   "outputs": [
    {
     "data": {
      "text/plain": [
       "<6090x18037 sparse matrix of type '<class 'numpy.float64'>'\n",
       "\twith 53777 stored elements in Compressed Sparse Row format>"
      ]
     },
     "execution_count": 73,
     "metadata": {},
     "output_type": "execute_result"
    }
   ],
   "source": [
    "tf = tvec.fit_transform(X_train)\n",
    "tf"
   ]
  },
  {
   "cell_type": "code",
   "execution_count": 74,
   "metadata": {},
   "outputs": [],
   "source": [
    "cvec = CountVectorizer(analyzer='word', stop_words='english', tokenizer=word_tokenize)"
   ]
  },
  {
   "cell_type": "code",
   "execution_count": 75,
   "metadata": {},
   "outputs": [],
   "source": [
    "from sklearn.decomposition import TruncatedSVD"
   ]
  },
  {
   "cell_type": "code",
   "execution_count": 76,
   "metadata": {},
   "outputs": [],
   "source": [
    "svd = TruncatedSVD(n_components=100, random_state=42)"
   ]
  },
  {
   "cell_type": "code",
   "execution_count": 77,
   "metadata": {},
   "outputs": [],
   "source": [
    "preprocessing_pipeline = Pipeline([('tvec', tvec), ('svd', svd)])"
   ]
  },
  {
   "cell_type": "code",
   "execution_count": 78,
   "metadata": {},
   "outputs": [
    {
     "data": {
      "text/plain": [
       "array([[ 1.74536214e-02, -5.01073938e-03, -3.45820047e-03, ...,\n",
       "         4.01308246e-02, -1.89395463e-02,  5.65651366e-03],\n",
       "       [ 4.61585813e-02, -1.41737028e-02, -1.04687336e-02, ...,\n",
       "         8.21501916e-05, -1.15394249e-03,  4.99390404e-02],\n",
       "       [ 2.84181732e-02, -1.16705663e-02, -1.02802422e-02, ...,\n",
       "         1.54380483e-02,  6.44256198e-03, -1.77225572e-04],\n",
       "       ...,\n",
       "       [ 1.21985532e-02, -3.33574904e-03, -3.68142947e-03, ...,\n",
       "        -1.33441788e-02, -3.73549468e-02,  6.18495652e-02],\n",
       "       [ 1.40161826e-02, -5.82602006e-03, -2.43378619e-03, ...,\n",
       "         3.15776820e-02, -6.15884130e-03, -2.97862047e-02],\n",
       "       [ 1.42879198e-02, -5.96304121e-03,  2.61542496e-03, ...,\n",
       "         1.87492854e-02,  1.55616691e-02, -3.74107128e-02]])"
      ]
     },
     "execution_count": 78,
     "metadata": {},
     "output_type": "execute_result"
    }
   ],
   "source": [
    "preprocessing_pipeline.fit_transform(X_train)"
   ]
  },
  {
   "cell_type": "code",
   "execution_count": 79,
   "metadata": {},
   "outputs": [
    {
     "data": {
      "text/plain": [
       "Pipeline(memory=None,\n",
       "         steps=[('vectorizer',\n",
       "                 CountVectorizer(analyzer='word', binary=False,\n",
       "                                 decode_error='strict',\n",
       "                                 dtype=<class 'numpy.int64'>, encoding='utf-8',\n",
       "                                 input='content', lowercase=True, max_df=1.0,\n",
       "                                 max_features=None, min_df=1,\n",
       "                                 ngram_range=(1, 1), preprocessor=None,\n",
       "                                 stop_words='english', strip_accents=None,\n",
       "                                 token_pattern='(?u)\\\\b\\\\w\\\\w+\\\\b',\n",
       "                                 tokenizer=<function word_tokenize at 0x7f7829f64400>,\n",
       "                                 vocabulary=None)),\n",
       "                ('mnb',\n",
       "                 MultinomialNB(alpha=1.0, class_prior=None, fit_prior=True))],\n",
       "         verbose=False)"
      ]
     },
     "execution_count": 79,
     "metadata": {},
     "output_type": "execute_result"
    }
   ],
   "source": [
    "mnb = MultinomialNB()\n",
    "\n",
    "pipe_mnb = Pipeline([('vectorizer', cvec), ('mnb', mnb)])\n",
    "\n",
    "pipe_mnb.fit(X_train, y_train)"
   ]
  },
  {
   "cell_type": "code",
   "execution_count": 80,
   "metadata": {},
   "outputs": [],
   "source": [
    "y_pred_mnb = pipe_mnb.predict(X_test)\n"
   ]
  },
  {
   "cell_type": "code",
   "execution_count": 81,
   "metadata": {},
   "outputs": [
    {
     "data": {
      "text/plain": [
       "array([[745, 124],\n",
       "       [167, 487]])"
      ]
     },
     "execution_count": 81,
     "metadata": {},
     "output_type": "execute_result"
    }
   ],
   "source": [
    "cm = confusion_matrix(y_test, y_pred_mnb)\n",
    "cm"
   ]
  },
  {
   "cell_type": "code",
   "execution_count": 82,
   "metadata": {
    "scrolled": true
   },
   "outputs": [
    {
     "name": "stdout",
     "output_type": "stream",
     "text": [
      "              precision    recall  f1-score   support\n",
      "\n",
      "           0       0.82      0.86      0.84       869\n",
      "           1       0.80      0.74      0.77       654\n",
      "\n",
      "    accuracy                           0.81      1523\n",
      "   macro avg       0.81      0.80      0.80      1523\n",
      "weighted avg       0.81      0.81      0.81      1523\n",
      "\n"
     ]
    }
   ],
   "source": [
    "cr = classification_report(y_test, y_pred_mnb)\n",
    "print(cr)"
   ]
  },
  {
   "cell_type": "code",
   "execution_count": 83,
   "metadata": {},
   "outputs": [],
   "source": [
    "test_df = test_df['text']"
   ]
  },
  {
   "cell_type": "code",
   "execution_count": 84,
   "metadata": {},
   "outputs": [],
   "source": [
    "actual_preds = pd.read_csv(\"/home/rkamath/Downloads/submission.csv\")\n",
    "\n",
    "y_test_acc = list(actual_preds['target'])"
   ]
  },
  {
   "cell_type": "code",
   "execution_count": 85,
   "metadata": {},
   "outputs": [],
   "source": [
    "y_preds = pipe_mnb.predict(test_df)"
   ]
  },
  {
   "cell_type": "code",
   "execution_count": 86,
   "metadata": {},
   "outputs": [
    {
     "data": {
      "text/plain": [
       "array([1, 1, 1, ..., 1, 1, 1])"
      ]
     },
     "execution_count": 86,
     "metadata": {},
     "output_type": "execute_result"
    }
   ],
   "source": [
    "y_preds"
   ]
  },
  {
   "cell_type": "code",
   "execution_count": 87,
   "metadata": {},
   "outputs": [
    {
     "name": "stdout",
     "output_type": "stream",
     "text": [
      "              precision    recall  f1-score   support\n",
      "\n",
      "           0       0.79      0.86      0.83      1861\n",
      "           1       0.79      0.70      0.74      1402\n",
      "\n",
      "    accuracy                           0.79      3263\n",
      "   macro avg       0.79      0.78      0.79      3263\n",
      "weighted avg       0.79      0.79      0.79      3263\n",
      "\n"
     ]
    }
   ],
   "source": [
    "cr = classification_report(y_test_acc, y_preds)\n",
    "print(cr)"
   ]
  },
  {
   "cell_type": "code",
   "execution_count": 102,
   "metadata": {},
   "outputs": [
    {
     "data": {
      "text/plain": [
       "Pipeline(memory=None,\n",
       "         steps=[('vectorizer',\n",
       "                 CountVectorizer(analyzer='word', binary=False,\n",
       "                                 decode_error='strict',\n",
       "                                 dtype=<class 'numpy.int64'>, encoding='utf-8',\n",
       "                                 input='content', lowercase=True, max_df=1.0,\n",
       "                                 max_features=None, min_df=1,\n",
       "                                 ngram_range=(1, 1), preprocessor=None,\n",
       "                                 stop_words='english', strip_accents=None,\n",
       "                                 token_pattern='(?u)\\\\b\\\\w\\\\w+\\\\b',\n",
       "                                 tokenizer=<function word_tokenize at 0x7f7829f64400>,\n",
       "                                 vocabulary=None)),\n",
       "                ('lr',\n",
       "                 LogisticRegression(C=1.0, class_weight=None, dual=False,\n",
       "                                    fit_intercept=True, intercept_scaling=1,\n",
       "                                    l1_ratio=None, max_iter=200,\n",
       "                                    multi_class='warn', n_jobs=None,\n",
       "                                    penalty='l2', random_state=0, solver='saga',\n",
       "                                    tol=0.01, verbose=0, warm_start=False))],\n",
       "         verbose=False)"
      ]
     },
     "execution_count": 102,
     "metadata": {},
     "output_type": "execute_result"
    }
   ],
   "source": [
    "lr = LogisticRegression(solver='saga', tol=1e-2, max_iter=200,random_state=0)\n",
    "\n",
    "pipe_lr = Pipeline([('vectorizer', cvec), ('lr', lr)])\n",
    "\n",
    "pipe_lr.fit(X_train, y_train)"
   ]
  },
  {
   "cell_type": "code",
   "execution_count": 103,
   "metadata": {},
   "outputs": [
    {
     "data": {
      "text/plain": [
       "array([1, 0, 1, ..., 0, 0, 0])"
      ]
     },
     "execution_count": 103,
     "metadata": {},
     "output_type": "execute_result"
    }
   ],
   "source": [
    "y_pred_lr = pipe_lr.predict(X_test)\n",
    "y_pred_lr"
   ]
  },
  {
   "cell_type": "code",
   "execution_count": 104,
   "metadata": {},
   "outputs": [
    {
     "data": {
      "text/plain": [
       "array([[772,  97],\n",
       "       [182, 472]])"
      ]
     },
     "execution_count": 104,
     "metadata": {},
     "output_type": "execute_result"
    }
   ],
   "source": [
    "cm = confusion_matrix(y_test, y_pred_lr)\n",
    "cm"
   ]
  },
  {
   "cell_type": "code",
   "execution_count": 91,
   "metadata": {},
   "outputs": [
    {
     "name": "stdout",
     "output_type": "stream",
     "text": [
      "              precision    recall  f1-score   support\n",
      "\n",
      "           0       0.80      0.88      0.84       869\n",
      "           1       0.81      0.71      0.76       654\n",
      "\n",
      "    accuracy                           0.80      1523\n",
      "   macro avg       0.81      0.79      0.80      1523\n",
      "weighted avg       0.81      0.80      0.80      1523\n",
      "\n"
     ]
    }
   ],
   "source": [
    "cr = classification_report(y_test, y_pred_lr)\n",
    "print(cr)"
   ]
  },
  {
   "cell_type": "code",
   "execution_count": 92,
   "metadata": {},
   "outputs": [],
   "source": [
    "y_preds = pipe_lr.predict(test_df)"
   ]
  },
  {
   "cell_type": "code",
   "execution_count": 93,
   "metadata": {},
   "outputs": [
    {
     "name": "stdout",
     "output_type": "stream",
     "text": [
      "              precision    recall  f1-score   support\n",
      "\n",
      "           0       0.78      0.90      0.83      1861\n",
      "           1       0.83      0.65      0.73      1402\n",
      "\n",
      "    accuracy                           0.79      3263\n",
      "   macro avg       0.80      0.78      0.78      3263\n",
      "weighted avg       0.80      0.79      0.79      3263\n",
      "\n"
     ]
    }
   ],
   "source": [
    "cr = classification_report(y_test_acc, y_preds)\n",
    "print(cr)"
   ]
  },
  {
   "cell_type": "code",
   "execution_count": 94,
   "metadata": {},
   "outputs": [],
   "source": [
    "#Create a Gaussian Classifier\n",
    "rf=RandomForestClassifier(n_estimators=100)\n",
    "\n",
    "pipe_rf = Pipeline([('vectorizer', cvec), ('rf', rf)])\n",
    "\n",
    "#Train the model using the training sets y_pred=clf.predict(X_test)\n",
    "pipe_rf.fit(X_train,y_train)\n",
    "\n",
    "y_pred_rf = pipe_rf.predict(X_test)"
   ]
  },
  {
   "cell_type": "code",
   "execution_count": 95,
   "metadata": {},
   "outputs": [
    {
     "name": "stdout",
     "output_type": "stream",
     "text": [
      "              precision    recall  f1-score   support\n",
      "\n",
      "           0       0.77      0.91      0.84       869\n",
      "           1       0.85      0.64      0.73       654\n",
      "\n",
      "    accuracy                           0.80      1523\n",
      "   macro avg       0.81      0.78      0.78      1523\n",
      "weighted avg       0.80      0.80      0.79      1523\n",
      "\n"
     ]
    }
   ],
   "source": [
    "cr = classification_report(y_test, y_pred_rf)\n",
    "print(cr)"
   ]
  },
  {
   "cell_type": "code",
   "execution_count": 96,
   "metadata": {},
   "outputs": [],
   "source": [
    "y_preds = pipe_rf.predict(test_df)"
   ]
  },
  {
   "cell_type": "code",
   "execution_count": 97,
   "metadata": {},
   "outputs": [
    {
     "name": "stdout",
     "output_type": "stream",
     "text": [
      "              precision    recall  f1-score   support\n",
      "\n",
      "           0       0.75      0.92      0.82      1861\n",
      "           1       0.84      0.59      0.69      1402\n",
      "\n",
      "    accuracy                           0.78      3263\n",
      "   macro avg       0.79      0.75      0.76      3263\n",
      "weighted avg       0.79      0.78      0.77      3263\n",
      "\n"
     ]
    }
   ],
   "source": [
    "cr = classification_report(y_test_acc, y_preds)\n",
    "print(cr)"
   ]
  },
  {
   "cell_type": "code",
   "execution_count": 98,
   "metadata": {},
   "outputs": [],
   "source": [
    "from xgboost import XGBClassifier\n",
    "xgb = XGBClassifier()\n",
    "pipe_xgb = Pipeline([('vectorizer', cvec), ('xgb', xgb)])\n",
    "\n",
    "pipe_xgb.fit(X_train, y_train)\n",
    "# make predictions for test data\n",
    "y_pred_xgb = pipe_xgb.predict(X_test)"
   ]
  },
  {
   "cell_type": "code",
   "execution_count": 99,
   "metadata": {},
   "outputs": [
    {
     "name": "stdout",
     "output_type": "stream",
     "text": [
      "              precision    recall  f1-score   support\n",
      "\n",
      "           0       0.70      0.96      0.81       869\n",
      "           1       0.89      0.45      0.60       654\n",
      "\n",
      "    accuracy                           0.74      1523\n",
      "   macro avg       0.80      0.70      0.70      1523\n",
      "weighted avg       0.78      0.74      0.72      1523\n",
      "\n"
     ]
    }
   ],
   "source": [
    "cr = classification_report(y_test, y_pred_xgb)\n",
    "print(cr)"
   ]
  },
  {
   "cell_type": "code",
   "execution_count": 100,
   "metadata": {},
   "outputs": [],
   "source": [
    "y_preds = pipe_xgb.predict(test_df)"
   ]
  },
  {
   "cell_type": "code",
   "execution_count": 101,
   "metadata": {},
   "outputs": [
    {
     "name": "stdout",
     "output_type": "stream",
     "text": [
      "              precision    recall  f1-score   support\n",
      "\n",
      "           0       0.68      0.95      0.79      1861\n",
      "           1       0.86      0.40      0.54      1402\n",
      "\n",
      "    accuracy                           0.71      3263\n",
      "   macro avg       0.77      0.67      0.67      3263\n",
      "weighted avg       0.75      0.71      0.68      3263\n",
      "\n"
     ]
    }
   ],
   "source": [
    "cr = classification_report(y_test_acc, y_preds)\n",
    "print(cr)"
   ]
  },
  {
   "cell_type": "code",
   "execution_count": null,
   "metadata": {},
   "outputs": [],
   "source": []
  }
 ],
 "metadata": {
  "kernelspec": {
   "display_name": "Python 3",
   "language": "python",
   "name": "python3"
  },
  "language_info": {
   "codemirror_mode": {
    "name": "ipython",
    "version": 3
   },
   "file_extension": ".py",
   "mimetype": "text/x-python",
   "name": "python",
   "nbconvert_exporter": "python",
   "pygments_lexer": "ipython3",
   "version": "3.6.9"
  }
 },
 "nbformat": 4,
 "nbformat_minor": 2
}
